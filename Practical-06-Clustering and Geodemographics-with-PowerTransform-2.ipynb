{
 "cells": [
  {
   "cell_type": "markdown",
   "metadata": {},
   "source": [
    "# Clustering & Geodemographics\n",
    "\n",
    "A common challenge in data analysis is how to group observations in a data set together in a way that allows for generalisation: _this_ group of observations are similar to one another, _that_ group is dissimilar to this group. But what defines similarity and difference? There is no _one_ answer to that question and so there are many different ways to cluster data, each of which has strengths and weaknesses that make them more, or less, appropriate in different contexts."
   ]
  },
  {
   "cell_type": "markdown",
   "metadata": {},
   "source": [
    "### Specifying the Kernel\n",
    "\n",
    "**_Note:_** Before you go any further, we need to check that you've got the right 'Kernel' (virutal environment) specified in Jupyter. Assuming that you are a Year 3 student on our Geocomputation pathway, then at the top right it should say _something_ like \"Python \\[gsa2018\\]\" or \"GSA2019\" (or something very similar to one of those!). There are other kernels configured and these can be accessed by clicking on the 'Kernel' menu item and then 'Change Kernel'. This feature is well beyond the scope of this practical, but it basically allows you to run multiple 'versions' of Python with different libraries or versions of libraries installed at the same time.\n",
    "\n",
    "If you are not a current student and do not have one of these kernels installed please refer to our [instructions for using Docker or configuring Anaconda Python](https://github.com/kingsgeocomp/gsa_env)."
   ]
  },
  {
   "cell_type": "markdown",
   "metadata": {
    "toc-hr-collapsed": true
   },
   "source": [
    "## Clustering in Python\n",
    "\n",
    "The most commonly-used _aspatial_ clustering algorighms are all found in [scikit-learn](http://scikit-learn.org/stable/), so that will be the focus of this practical. But just as there are aspatial and spatial statistics, there are also _spatially-aware_ clustering algorithms to be found in [PySAL](http://pysal.readthedocs.io/en/latest/), the Python Spatial Analysis Library.\n",
    "\n",
    "### Clustering in sklearn\n",
    "\n",
    "One organisation recently produced a handy scikit-learn cheatsheet that you should [download](https://s3.amazonaws.com/assets.datacamp.com/blog_assets/Scikit_Learn_Cheat_Sheet_Python.pdf). The terminology used in scikit-learn is rather different from anything you will have encountered before (unless you've studied computer science and, possibly, statistics) so it's worth spending a few minutes mapping what you already know on to the sklearn framework:\n",
    "\n",
    "|   | **Continuous** | **Categorical** |\n",
    "| - | ---------- | -----------|\n",
    "| **Supervised** | Regression | Classification |\n",
    "| **Unsupervised** | Dimensionality Reduction | Clustering |\n",
    "\n",
    "So clustering is a form of unsupervised (because we don't train the model on what a 'good' result looks like) and categorical (because we get labels out of the model, not predictors) machine learning. Clustering is often used together with PCA (Principal Components Analysis) which is a form of unsupervised dimensionality reduction: data sets with \"high dimensionality\" are reduced using PCA (you can think of this as a realignment of the axes with the 'data cloud') which has the effect of _maximising the variance_ on each new axis, and the reduced-dimension dataset is then fed to a clustering algorithm. Similarly, supervised approaches are often paired: logistic regression (supervised) is often used with classification (supervised).\n",
    "\n",
    "There are a huge number of algorithms provided by sklearn and this 'map' shows only the basic and commonly-used ones:\n",
    "\n",
    "<a href=\"http://scikit-learn.org/stable/tutorial/machine_learning_map/\"><img alt=\"SciKit-Learn Algorithm Map\" src=\"http://scikit-learn.org/stable/_static/ml_map.png\" width=\"700px\" /></a>"
   ]
  },
  {
   "cell_type": "markdown",
   "metadata": {},
   "source": [
    "### Which Clustering Approach is Right?\n",
    "\n",
    "The reason that there is no 'right' approach to clustering is that it all depends on what you're trying to accomplish and how you're _reasoning_ about your problem. The image below highlights the extent to which the different clustering approaches in sklearn can produce different results -- and this is only for the _non-geographic_ algorithms!\n",
    "\n",
    "<a href=\"http://scikit-learn.org/stable/modules/clustering.html#clustering\"><img alt=\"Clustering algorithm comparison\" src=\"http://scikit-learn.org/stable/_images/sphx_glr_plot_cluster_comparison_0011.png\" width=\"700px\" /></a>\n",
    "\n",
    "_Note:_ for geographically-aware clustering you need to look at PySAL.\n",
    "\n",
    "To think about this in a little more detail:\n",
    "\n",
    "* If I run an online company and I want to classify my customers on the basis of their product purchases, then I probably don't care much about where they are, only about what they buy, and so my clustering approach doesn't need to take geography into account. I might well _discover_ that many of my most valuable customers live in a few areas, but that is a finding, not a factor, in my research.\n",
    "* Conversely, if I am looking for cancer clusters then I might well care a _lot_ about geography because I want to make sure that I don't overlook an important cluster of cases because it's 'hidden' inside an area with lots of people who don't have cancer. In that case, I want my clusters to take geography into account. That approach might classify an area with a smaller proportion of cancer patients as part of a 'cancer cluster' but that's because it is still significant _because_ of the geography.\n",
    "\n",
    "So you can undertake a spatial analysis using _either_ approach, it just depends on the role that you think geography should play in producing the clusters in the first place. We'll see this in action today!"
   ]
  },
  {
   "cell_type": "markdown",
   "metadata": {
    "toc-hr-collapsed": true
   },
   "source": [
    "## Getting Organised"
   ]
  },
  {
   "cell_type": "markdown",
   "metadata": {},
   "source": [
    "#### Ensure Plotting Output"
   ]
  },
  {
   "cell_type": "code",
   "execution_count": null,
   "metadata": {},
   "outputs": [],
   "source": [
    "import matplotlib as mpl\n",
    "mpl.use('TkAgg')\n",
    "%matplotlib inline"
   ]
  },
  {
   "cell_type": "markdown",
   "metadata": {},
   "source": [
    "#### Importing the Libraries"
   ]
  },
  {
   "cell_type": "code",
   "execution_count": null,
   "metadata": {},
   "outputs": [],
   "source": [
    "import numpy as np\n",
    "import pandas as pd\n",
    "import geopandas as gpd\n",
    "import seaborn as sns\n",
    "import matplotlib.pyplot as plt\n",
    "import matplotlib.cm as cm\n",
    "import requests\n",
    "import zipfile\n",
    "import re\n",
    "import os\n",
    "import pickle as pk\n",
    "\n",
    "from io import BytesIO, StringIO\n",
    "from os.path import join as pj\n",
    "from pathlib import Path\n",
    "import matplotlib as mpl\n",
    "from matplotlib.colors import ListedColormap\n",
    "\n",
    "import sklearn\n",
    "sklv = int(sklearn.__version__.replace(\".\",\"\"))\n",
    "if sklv < 210:\n",
    "    print(\"SciKit-Learn verion is: \" + sklearn.__version__)\n",
    "    print(\"The OPTICS part of this notebook relies on a version >= 0.21.0\")\n",
    "\n",
    "from sklearn.neighbors import NearestNeighbors\n",
    "from sklearn.manifold import TSNE\n",
    "from sklearn.decomposition import PCA\n",
    "from sklearn.preprocessing import PowerTransformer\n",
    "from sklearn import preprocessing\n",
    "from sklearn import cluster\n",
    "\n",
    "import random\n",
    "random.seed(42)    # For reproducibility\n",
    "np.random.seed(42) # For reproducibility\n",
    "\n",
    "# Make numeric display a bit neater\n",
    "pd.set_option('display.float_format', lambda x: '{:,.2f}'.format(x))"
   ]
  },
  {
   "cell_type": "markdown",
   "metadata": {
    "toc-hr-collapsed": true
   },
   "source": [
    "## Obtaining the Data\n",
    "\n",
    "For the sake of simplicity we're going to work with roughly the same set of data for London that Alexiou & Singleton used in their _Geodemographic Analysis_ chapter from [Geocomputation: A Practical Primer](https://uk.sagepub.com/en-gb/eur/geocomputation/book241023). Although the implementation in the _Primer_ is in the R programming language, the concerns and the approach are exactly the same.\n",
    "\n",
    "### NomisWeb\n",
    "\n",
    "Nearly the _entire_ Census is available to download from [InFuse](http://infuse2011.ukdataservice.ac.uk/), but you can often download data 'in bulk' from [NomisWeb](https://www.nomisweb.co.uk/home/detailedstats.asp?resume=no) directly and they also have a (poorly documented) API as well.\n",
    "\n",
    "The tables we want are:\n",
    "* KS102EW: Age structure\n",
    "* KS201EW: Ethnic group\n",
    "* KS401EW: Dwellings, household space and accommodation type\n",
    "* KS402EW: Tenure\n",
    "* KS403EW: Rooms, bedrooms and central heating\n",
    "* KS404EW: Car or van availability\n",
    "* KS501EW: Qualifications and students\n",
    "* KS603EW: Economic Activity by Sex\n",
    "\n",
    "We want London LSOAs, which you can get by specifying 'Select areas within', then '2011 - super output areas - lower layers', and 'region' (leading to London). \n",
    "\n",
    "##### Saving Time\n",
    "\n",
    "To save you the trouble of manually selecting and downloading each table I have assembled everything into a '[Census.zip](https://github.com/kingsgeocomp/applied_gsa/blob/master/data/Census.zip?raw=true)' file. This will be automatically downloaded into a directory called `analysis` using the code below and you do _not_ need to unzip it."
   ]
  },
  {
   "cell_type": "code",
   "execution_count": null,
   "metadata": {},
   "outputs": [],
   "source": [
    "src = 'https://github.com/kingsgeocomp/applied_gsa/blob/master/data/Census.zip?raw=true'\n",
    "dst = os.path.join('analysis','Census.zip')\n",
    "\n",
    "if not os.path.exists(dst):\n",
    "    if not os.path.exists(os.path.dirname(dst)):\n",
    "        os.makedirs(os.path.dirname(dst))\n",
    "    \n",
    "    print(\"Downloading...\")\n",
    "    r = requests.get(src, stream=True)\n",
    "    \n",
    "    with open(dst, 'wb') as fd:\n",
    "        for chunk in r.iter_content(chunk_size=128):\n",
    "            fd.write(chunk)\n",
    "else:\n",
    "    print(\"File already downloaded.\")\n",
    "    \n",
    "print(\"Done.\")"
   ]
  },
  {
   "cell_type": "markdown",
   "metadata": {},
   "source": [
    "### Loading the NomisWeb Data\n",
    "\n",
    "You may need to make a few adjustments to the path to get the data loaded on your own computer. But notice what we're now able to do here: using the `zipfile` library we can extract a data file (or any other file) from the Zip archive without even having to open it. Saves even more time _and_ disk space!"
   ]
  },
  {
   "cell_type": "code",
   "execution_count": null,
   "metadata": {},
   "outputs": [],
   "source": [
    "z = zipfile.ZipFile(os.path.join('analysis','Census.zip'))\n",
    "z.namelist()"
   ]
  },
  {
   "cell_type": "markdown",
   "metadata": {},
   "source": [
    "We're going to save each data set to a separate data frame to make it easier to work with during cleaning. But note that this code is fairly flexible since we stick each new dataframe in a dictionary (`d`) where we can retrieve them via an iterator."
   ]
  },
  {
   "cell_type": "code",
   "execution_count": null,
   "metadata": {},
   "outputs": [],
   "source": [
    "raw   = {}\n",
    "clean = {}\n",
    "total_cols = 0\n",
    "\n",
    "for r in range(0, len(z.namelist())):\n",
    "    \n",
    "    m  = re.search(\"(?:-)([^\\.]+)\", z.namelist()[r])\n",
    "    nm = m.group(1)\n",
    "    \n",
    "    print(\"Processing {0} file: \".format(nm))\n",
    "    \n",
    "    with z.open(z.namelist()[r]) as f:\n",
    "                \n",
    "        if z.namelist()[r] == '99521530-Activity.csv': \n",
    "            raw[nm] = pd.read_csv(BytesIO(f.read()), header=7, skip_blank_lines=True, skipfooter=7, engine='python')\n",
    "        else:\n",
    "            raw[nm] = pd.read_csv(BytesIO(f.read()), header=6, skip_blank_lines=True, skipfooter=7, engine='python')\n",
    "    \n",
    "    print(\"\\tShape of dataframe is {0} rows by {1} columns\".format(raw[nm].shape[0], raw[nm].shape[1]))\n",
    "    total_cols += raw[nm].shape[1]\n",
    "\n",
    "print(\"There are {0} columns in all.\".format(total_cols))"
   ]
  },
  {
   "cell_type": "markdown",
   "metadata": {},
   "source": [
    "### ONS Boundary Data\n",
    "\n",
    "We also need to download the LSOA boundary data. A quick Google search on \"2011 LSOA boundaries\" will lead you to the [Data.gov.uk portal](https://data.gov.uk/dataset/lower_layer_super_output_area_lsoa_boundaries). The rest is fairly straightforward:\n",
    "* We want 'generalised' because that means that they've removed some of the detail from the boundaries so the file will load (and render) more quickly.\n",
    "* We want 'clipped' because that means that the boundaries have been clipped to the edges of the land (e.g. the Thames; the 'Full' data set splits the Thames down the middle between adjacent LSOAs).\n",
    "\n",
    "#### Saving Time\n",
    "\n",
    "Again, in order to get you started more quickly I've already created a 'pack' for you. However, note that the format of this is a GeoPackage, this is a fairly new file format designed to replace ESRI's antique Shapefile format, and it allows us to include all kinds of useful information as part of the download as well as doing away with the need to unzip a download first! So here we load the data directly into a geopandas dataframe:"
   ]
  },
  {
   "cell_type": "code",
   "execution_count": null,
   "metadata": {},
   "outputs": [],
   "source": [
    "src = 'https://github.com/kingsgeocomp/applied_gsa/raw/master/data/London%20LSOAs.gpkg'\n",
    "\n",
    "gdf = gpd.read_file(src)\n",
    "print(\"Shape of LSOA file: {0} rows by {1} columns\".format(gdf.shape[0], gdf.shape[1]))\n",
    "gdf.columns = [x.lower() for x in gdf.columns.values]\n",
    "gdf.set_index('lsoa11cd', drop=True, inplace=True)\n",
    "gdf.sample(4)"
   ]
  },
  {
   "cell_type": "markdown",
   "metadata": {},
   "source": [
    "#### <span style=\"color:red\">Error!</span>\n",
    "\n",
    "Depending on your version of GDAL/Fiona, you may not be able to read the GeoPackage file directly. In this case you will need to replace the code above with the code below for downloading and extracting a Shapefile from a Zip archive:\n",
    "```python\n",
    "src = 'https://github.com/kingsgeocomp/applied_gsa/blob/master/data/Lower_Layer_Super_Output_Areas_December_2011_Generalised_Clipped__Boundaries_in_England_and_Wales.zip?raw=true'\n",
    "dst = os.path.join('analysis','LSOAs.zip')\n",
    "zpd = 'analysis'\n",
    "\n",
    "if not os.path.exists(dst):\n",
    "    if not os.path.exists(os.path.dirname(dst)):\n",
    "        os.makedirs(os.path.dirname(dst))\n",
    "\n",
    "    r = requests.get(src, stream=True)\n",
    "\n",
    "    with open(dst, 'wb') as fd:\n",
    "        for chunk in r.iter_content(chunk_size=128):\n",
    "            fd.write(chunk)\n",
    "\n",
    "if not os.path.exists(zpd):\n",
    "    os.makedirs(os.path.dirname(zpd))\n",
    "    \n",
    "zp = zipfile.ZipFile(dst, 'r')\n",
    "zp.extractall(zpd)\n",
    "zp.close()\n",
    "\n",
    "gdf = gpd.read_file(os.path.join('analysis','lsoas','Lower_Layer_Super_Output_Areas_December_2011_Generalised_Clipped__Boundaries_in_England_and_Wales.shp'))\n",
    "gdf.crs = {'init' :'epsg:27700'}\n",
    "print(\\\"Shape of LSOA file: {0} rows by {1} columns\\\".format(gdf.shape[0], gdf.shape[1]))\n",
    "gdf.set_index('lsoa11cd', drop=True, inplace=True)\n",
    "gdf.sample(4)\n",
    "```\n",
    "\n",
    "You can probably see why I'm a big fan of GeoPackages when they're available!"
   ]
  },
  {
   "cell_type": "markdown",
   "metadata": {},
   "source": [
    "### Other Sources of Data\n",
    "\n",
    "If you're more interested in US Census data then there's a nice-looking (though I haven't used it) [wrapper to the Census API](https://pypi.python.org/pypi/census). And [Spielman and Singleton](https://www.tandfonline.com/doi/full/10.1080/00045608.2015.1052335) have done some work on large-scale geodemographic clustering of U.S. Census geographies."
   ]
  },
  {
   "cell_type": "markdown",
   "metadata": {
    "toc-hr-collapsed": true
   },
   "source": [
    "## Tidying Up\n",
    "\n",
    "So we have 4,835 rows and 88 columns. However, we don't know how many of those columns are redundant and so need to work out what might need removing from the data set before we can try clustering. So we're going to work our way through each data set in turn so that we can convert them to percentages before combining them into a single, large data set.\n",
    "\n",
    "#### Brief Discussion\n",
    "\n",
    "In the practical I've followed the _Geocomputation_ approach of basically converting everything to a share (percentage) and then clustering on that. This is _one_ way to approach this problem, but there are _many_ others. For instance, many people might skip the percentages part and apply robust rescaling ([`sklearn.preprocessing.RobustScaler`](https://scikit-learn.org/stable/modules/generated/sklearn.preprocessing.RobustScaler.html)) using centering and quantile standardisation (the 5th and 95th, for example) instead. And possibly using a normalising transformation (such as a [Power Transform](https://scikit-learn.org/stable/modules/generated/sklearn.preprocessing.PowerTransformer.html)) as well. \n",
    "\n",
    "I would also consider using PCA on groups of related variables (_e.g._ the housing features as a group, the ethnicity features as a group, etc.) and then take the first few eigenvalues from each group and cluster on all of those together. This would remove quite a bit of the correlation between variables and still allow us to perform hierarchical and other types of clustering on the result. It might also do a better job of preserving outliers.\n",
    "\n",
    "<div style=\"padding:5px;margin-top:5px;margin-bottom:5px;border:dotted 1px red;background-color:rgb(255,233,233);color:red\">STOP. Reflect on why there are different ways to prepare data for clustering and how these approaches above (Google if you have to!) might produce different results.</div>"
   ]
  },
  {
   "cell_type": "markdown",
   "metadata": {},
   "source": [
    "### Dwellings\n",
    "\n",
    "From dewllings we're mainly interested in the housing type since we would expect that housing typologies will be a determinant of the types of people who live in an area. We _could_ look at places with no usual residents as well, or explore the distribution of shared dwellings, but this is a pretty good start."
   ]
  },
  {
   "cell_type": "code",
   "execution_count": null,
   "metadata": {},
   "outputs": [],
   "source": [
    "t = 'Dwellings'\n",
    "raw[t].columns"
   ]
  },
  {
   "cell_type": "code",
   "execution_count": null,
   "metadata": {},
   "outputs": [],
   "source": [
    "# Select the columns we're interested in analysing\n",
    "selection = ['mnemonic',\n",
    "    'Whole house or bungalow: Detached', \n",
    "    'Whole house or bungalow: Semi-detached',\n",
    "    'Whole house or bungalow: Terraced (including end-terrace)',\n",
    "    'Flat, maisonette or apartment: Purpose-built block of flats or tenement',\n",
    "    'Flat, maisonette or apartment: Part of a converted or shared house (including bed-sits)',\n",
    "    'Flat, maisonette or apartment: In a commercial building'\n",
    "]\n",
    "\n",
    "# Drop everything *not* in the selection\n",
    "clean[t] = raw[t].drop(raw[t].columns[~np.isin(raw[t].columns.values,selection)].values, axis=1)\n",
    "\n",
    "mapping = {}\n",
    "for c in selection[1:]:\n",
    "    m  = re.search(\"^(?:[^\\:]*)(?:\\:\\s)?([^\\(]+)\", c)\n",
    "    nm = m.group(1).strip()\n",
    "    #print(\"Renaming '{0}' to '{1}'\".format(c, nm))\n",
    "    mapping[c] = nm\n",
    "\n",
    "clean[t].rename(columns=mapping, inplace=True)\n",
    "\n",
    "clean[t].sample(5, random_state=42)"
   ]
  },
  {
   "cell_type": "markdown",
   "metadata": {},
   "source": [
    "### Age\n",
    "\n",
    "Clearly, some areas have more young people, some have older people, and some will be composed of families. A lot of these are going to be tied to 'lifestage' and so will help us to understand something about the types of areas in which they live."
   ]
  },
  {
   "cell_type": "code",
   "execution_count": null,
   "metadata": {},
   "outputs": [],
   "source": [
    "t = 'Age'\n",
    "raw[t].columns"
   ]
  },
  {
   "cell_type": "code",
   "execution_count": null,
   "metadata": {},
   "outputs": [],
   "source": [
    "# Select the columns we're interested in analysing\n",
    "selection = ['mnemonic',\n",
    "    'Age 0 to 14',\n",
    "    'Age 15 to 24',\n",
    "    'Age 25 to 44',\n",
    "    'Age 45 to 64',\n",
    "    'Age 65+'\n",
    "]\n",
    "\n",
    "# Derived columns\n",
    "raw[t]['Age 0 to 14']  = raw[t]['Age 0 to 4'] + raw[t]['Age 5 to 7'] + raw[t]['Age 8 to 9'] + raw[t]['Age 10 to 14'] \n",
    "raw[t]['Age 15 to 24'] = raw[t]['Age 15'] + raw[t]['Age 16 to 17'] + raw[t]['Age 18 to 19'] + raw[t]['Age 20 to 24']\n",
    "raw[t]['Age 25 to 44'] = raw[t]['Age 25 to 29'] + raw[t]['Age 30 to 44']\n",
    "raw[t]['Age 45 to 64'] = raw[t]['Age 45 to 59'] + raw[t]['Age 60 to 64']\n",
    "raw[t]['Age 65+']      = raw[t]['Age 65 to 74'] + raw[t]['Age 75 to 84'] + raw[t]['Age 85 to 89'] + raw[t]['Age 90 and over']\n",
    "\n",
    "# Drop everything *not* in the selection\n",
    "clean[t] = raw[t].drop(raw[t].columns[~np.isin(raw[t].columns.values,selection)].values, axis=1)\n",
    "\n",
    "clean[t].sample(5, random_state=42)"
   ]
  },
  {
   "cell_type": "markdown",
   "metadata": {},
   "source": [
    "### Ethnicity\n",
    "\n",
    "We might also think that the balance of ethnic groups might impact a categorisation of LSOAs in London."
   ]
  },
  {
   "cell_type": "code",
   "execution_count": null,
   "metadata": {},
   "outputs": [],
   "source": [
    "t = 'Ethnicity'\n",
    "raw[t].columns"
   ]
  },
  {
   "cell_type": "code",
   "execution_count": null,
   "metadata": {},
   "outputs": [],
   "source": [
    "# Select the columns we're interested in analysing\n",
    "selection = ['mnemonic',\n",
    "    'White', \n",
    "    'Mixed/multiple ethnic groups', \n",
    "    'Asian/Asian British', \n",
    "    'Black/African/Caribbean/Black British', \n",
    "    'Other ethnic group'\n",
    "]\n",
    "\n",
    "# Drop everything *not* in the selection\n",
    "clean[t] = raw[t].drop(raw[t].columns[~np.isin(raw[t].columns.values,selection)].values, axis=1)\n",
    "\n",
    "clean[t].sample(5, random_state=42)"
   ]
  },
  {
   "cell_type": "markdown",
   "metadata": {},
   "source": [
    "### Rooms\n",
    "\n",
    "Let's next incorporate the amount of space available to each household."
   ]
  },
  {
   "cell_type": "code",
   "execution_count": null,
   "metadata": {},
   "outputs": [],
   "source": [
    "t = 'Rooms'\n",
    "raw[t].columns"
   ]
  },
  {
   "cell_type": "code",
   "execution_count": null,
   "metadata": {},
   "outputs": [],
   "source": [
    "# Select the columns we're interested in analysing\n",
    "selection = ['mnemonic',\n",
    "    'Occupancy rating (bedrooms) of -1 or less',\n",
    "    'Occupancy rating (rooms) of -1 or less',\n",
    "    'Average household size', \n",
    "#    'Average number of bedrooms per household',\n",
    "#    'Average number of rooms per household',\n",
    "]\n",
    "\n",
    "# Drop everything *not* in the selection\n",
    "clean[t] = raw[t].drop(raw[t].columns[~np.isin(raw[t].columns.values,selection)].values, axis=1)\n",
    "\n",
    "clean[t].sample(5, random_state=42)"
   ]
  },
  {
   "cell_type": "markdown",
   "metadata": {},
   "source": [
    "### Vehicles\n",
    "\n",
    "Car ownership and use is also known to be a good predictor of social and economic 'status': Guy Lansley's article on the DLVA's registration database offers a useful perpective on the usefulness of this approach."
   ]
  },
  {
   "cell_type": "code",
   "execution_count": null,
   "metadata": {},
   "outputs": [],
   "source": [
    "t = 'Vehicles'\n",
    "raw[t].columns"
   ]
  },
  {
   "cell_type": "code",
   "execution_count": null,
   "metadata": {},
   "outputs": [],
   "source": [
    "# Select the columns we're interested in analysing\n",
    "selection = ['mnemonic',\n",
    "    'No cars or vans in household', \n",
    "    '1 car or van in household',\n",
    "    '2 cars or vans in household', \n",
    "    '3 or more cars or vans in household'\n",
    "]\n",
    "\n",
    "# Calculate a new column\n",
    "raw[t]['3 or more cars or vans in household'] = raw[t]['3 cars or vans in household'] + raw[t]['4 or more cars or vans in household']\n",
    "\n",
    "# Drop everything *not* in the selection\n",
    "clean[t] = raw[t].drop(raw[t].columns[~np.isin(raw[t].columns.values,selection)].values, axis=1)\n",
    "\n",
    "clean[t].sample(5, random_state=42)"
   ]
  },
  {
   "cell_type": "markdown",
   "metadata": {},
   "source": [
    "### Tenure\n",
    "\n",
    "Ownership structure is another categorisation predictor."
   ]
  },
  {
   "cell_type": "code",
   "execution_count": null,
   "metadata": {},
   "outputs": [],
   "source": [
    "t = 'Tenure'\n",
    "raw[t].columns"
   ]
  },
  {
   "cell_type": "code",
   "execution_count": null,
   "metadata": {},
   "outputs": [],
   "source": [
    "# Select the columns we're interested in analysing\n",
    "selection = ['mnemonic',\n",
    "    'Owned', \n",
    "    'Social rented', \n",
    "    'Private rented',\n",
    "    'Shared ownership (part owned and part rented)'\n",
    "]\n",
    "\n",
    "# Drop everything *not* in the selection\n",
    "clean[t] = raw[t].drop(raw[t].columns[~np.isin(raw[t].columns.values,selection)].values, axis=1)\n",
    "\n",
    "clean[t].rename(columns={'Shared ownership (part owned and part rented)':'Shared ownership'}, inplace=True)\n",
    "\n",
    "clean[t].sample(5, random_state=42)"
   ]
  },
  {
   "cell_type": "markdown",
   "metadata": {},
   "source": [
    "### Qualifications\n",
    "\n",
    "You can find out a bit more about qualifications [here](https://www.surreyi.gov.uk/2011-census/highest-level-of-qualification/#header-qualifications-categories)."
   ]
  },
  {
   "cell_type": "code",
   "execution_count": null,
   "metadata": {},
   "outputs": [],
   "source": [
    "t = 'Qualifications'\n",
    "raw[t].columns"
   ]
  },
  {
   "cell_type": "code",
   "execution_count": null,
   "metadata": {},
   "outputs": [],
   "source": [
    "# Select the columns we're interested in analysing\n",
    "selection = ['mnemonic',\n",
    "    'Highest level of qualification: Below Level 3 qualifications',\n",
    "    'Highest level of qualification: Level 3 and above qualifciations',\n",
    "    'Highest level of qualification: Other qualifications'\n",
    "]\n",
    "\n",
    "# Derive a new aggregate field for 'didn't complete HS'\n",
    "raw[t]['Highest level of qualification: Below Level 3 qualifications'] = \\\n",
    "    raw[t]['No qualifications'] + \\\n",
    "    raw[t]['Highest level of qualification: Level 1 qualifications'] + \\\n",
    "    raw[t]['Highest level of qualification: Level 2 qualifications'] + \\\n",
    "    raw[t]['Highest level of qualification: Apprenticeship'] \n",
    "\n",
    "raw[t]['Highest level of qualification: Level 3 and above qualifciations'] = \\\n",
    "    raw[t]['Highest level of qualification: Level 3 qualifications'] + \\\n",
    "    raw[t]['Highest level of qualification: Level 4 qualifications and above']\n",
    "\n",
    "# Drop everything *not* in the selection\n",
    "clean[t] = raw[t].drop(raw[t].columns[~np.isin(raw[t].columns.values,selection)].values, axis=1)\n",
    "\n",
    "mapping = {}\n",
    "for c in selection[1:]:\n",
    "    m  = re.search(\"^(?:[^\\:]*)(?:\\:\\s)?([^\\(]+)\", c)\n",
    "    nm = m.group(1).strip()\n",
    "    #print(\"Renaming '{0}' to '{1}'\".format(c, nm))\n",
    "    mapping[c] = nm\n",
    "\n",
    "clean[t].rename(columns=mapping, inplace=True)\n",
    "\n",
    "clean[t].sample(5, random_state=42)"
   ]
  },
  {
   "cell_type": "markdown",
   "metadata": {},
   "source": [
    "### Activity"
   ]
  },
  {
   "cell_type": "code",
   "execution_count": null,
   "metadata": {},
   "outputs": [],
   "source": [
    "t = 'Activity'\n",
    "raw[t].columns"
   ]
  },
  {
   "cell_type": "code",
   "execution_count": null,
   "metadata": {},
   "outputs": [],
   "source": [
    "# Select the columns we're interested in analysing\n",
    "selection = ['mnemonic',\n",
    "#    'Economically active: In employment',\n",
    "    'Economically active: Unemployed',\n",
    "    'Economically active: Full-time student',\n",
    "#    'Economically inactive: Retired',\n",
    "    'Economically inactive: Looking after home or family',\n",
    "    'Economically inactive: Long-term sick or disabled',\n",
    "#    'Economically inactive: Other'\n",
    "]\n",
    "\n",
    "# Drop everything *not* in the selection\n",
    "clean[t] = raw[t].drop(raw[t].columns[~np.isin(raw[t].columns.values,selection)].values, axis=1)\n",
    "\n",
    "mapping = {}\n",
    "for c in selection[1:]:\n",
    "    m  = re.search(\"^(?:[^\\:]*)(?:\\:\\s)?([^\\(]+)\", c)\n",
    "    nm = m.group(1).strip()\n",
    "    #print(\"Renaming '{0}' to '{1}'\".format(c, nm))\n",
    "    mapping[c] = nm\n",
    "\n",
    "clean[t].rename(columns=mapping, inplace=True)\n",
    "\n",
    "clean[t].sample(5, random_state=42)"
   ]
  },
  {
   "cell_type": "markdown",
   "metadata": {
    "toc-hr-collapsed": true
   },
   "source": [
    "## Feature Manipulation"
   ]
  },
  {
   "cell_type": "markdown",
   "metadata": {},
   "source": [
    "### Standardisation with SKLearn"
   ]
  },
  {
   "cell_type": "markdown",
   "metadata": {},
   "source": [
    "Let's try standardising the data now:"
   ]
  },
  {
   "cell_type": "code",
   "execution_count": null,
   "metadata": {},
   "outputs": [],
   "source": [
    "# Here's how we can rescale and transform data easily\n",
    "from sklearn.preprocessing import PowerTransformer\n",
    "from sklearn.preprocessing import RobustScaler\n",
    "from sklearn.preprocessing import MinMaxScaler"
   ]
  },
  {
   "cell_type": "code",
   "execution_count": null,
   "metadata": {},
   "outputs": [],
   "source": [
    "random.seed(43)\n",
    "t   = random.sample(population=list(clean.keys()), k=1)[0]\n",
    "col = random.sample(population=list(clean[t].columns.values[1:]), k=1)[0]\n",
    "print(f\"Looking at {col} column from {t}.\")"
   ]
  },
  {
   "cell_type": "markdown",
   "metadata": {},
   "source": [
    "Here's the 'original' distribution:"
   ]
  },
  {
   "cell_type": "code",
   "execution_count": null,
   "metadata": {},
   "outputs": [],
   "source": [
    "plt.rcParams['figure.figsize']=(7,3)\n",
    "sns.distplot(clean[t][col], kde=False)"
   ]
  },
  {
   "cell_type": "markdown",
   "metadata": {},
   "source": [
    "Here's the version that has been re-scaled (standardised) using Min/Max rescaling:"
   ]
  },
  {
   "cell_type": "code",
   "execution_count": null,
   "metadata": {},
   "outputs": [],
   "source": [
    "plt.rcParams['figure.figsize']=(7,3)\n",
    "sns.distplot(preprocessing.minmax_scale(clean[t][col].values.reshape(-1,1)), kde=False)"
   ]
  },
  {
   "cell_type": "markdown",
   "metadata": {},
   "source": [
    "Here's a version that has been robustly rescaled:"
   ]
  },
  {
   "cell_type": "code",
   "execution_count": null,
   "metadata": {},
   "outputs": [],
   "source": [
    "plt.rcParams['figure.figsize']=(7,3)\n",
    "sns.distplot(preprocessing.robust_scale(clean[t][col].values.reshape(-1,1), quantile_range=[5.0, 95.0]), kde=False)"
   ]
  },
  {
   "cell_type": "markdown",
   "metadata": {},
   "source": [
    "And here's a version that has been Power Transformed... spot the difference!"
   ]
  },
  {
   "cell_type": "code",
   "execution_count": null,
   "metadata": {},
   "outputs": [],
   "source": [
    "sns.distplot(\n",
    "    preprocessing.power_transform(clean[t][col].values.reshape(-1,1), method='yeo-johnson'), kde=False)"
   ]
  },
  {
   "cell_type": "markdown",
   "metadata": {},
   "source": [
    "Combining transformation _and_ rescaling:"
   ]
  },
  {
   "cell_type": "code",
   "execution_count": null,
   "metadata": {},
   "outputs": [],
   "source": [
    "sns.distplot(\n",
    "    preprocessing.robust_scale(\n",
    "        preprocessing.power_transform(\n",
    "            clean[t][col].values.reshape(-1,1), method='yeo-johnson'\n",
    "        ), quantile_range=[5.0, 95.0] \n",
    "    ), \n",
    "    kde=False\n",
    ")"
   ]
  },
  {
   "cell_type": "code",
   "execution_count": null,
   "metadata": {},
   "outputs": [],
   "source": [
    "# Set up a new dictionary for the transforms\n",
    "transformed = {}\n",
    "\n",
    "transformer = preprocessing.PowerTransformer()\n",
    "scaler      = preprocessing.RobustScaler(quantile_range=[5.0, 95.0])\n",
    "#scaler      = preprocessing.MinMaxScaler()\n",
    "\n",
    "for k in clean.keys():\n",
    "    print(k)\n",
    "    df = clean[k].copy(deep=True)\n",
    "    df.set_index('mnemonic', inplace=True)\n",
    "    \n",
    "    # For rescale and transforming everything when the operations\n",
    "    # apply to each Series separately you can do it as a 1-liner like this:\n",
    "    #df[df.columns] = scaler.fit_transform(transformer.fit_transform(df[df.columns]))\n",
    "\n",
    "    # To calculate within-*column* proportions it's like this:\n",
    "    #for c in df.columns.values: \n",
    "    #    df[c] = scaler.fit_transform( (df[c]/df[c].max() ).values.reshape(-1, 1) )\n",
    "\n",
    "    # To calculate within-*group* proportions it's like this:\n",
    "    if k == 'Rooms':\n",
    "        df[df.columns] = scaler.fit_transform(transformer.fit_transform(df[df.columns]))\n",
    "    else: \n",
    "        df['sum'] = df[list(df.columns)].sum(axis=1)\n",
    "        for c in df.columns.values:\n",
    "            if c == 'sum':\n",
    "                df.drop(['sum'], axis=1, inplace=True)\n",
    "            else:\n",
    "                df[c] = scaler.fit_transform( (df[c]/df['sum']).values.reshape(-1, 1) )\n",
    "            \n",
    "    #print(df.sample(5, random_state=42))\n",
    "    transformed[k] = df\n"
   ]
  },
  {
   "cell_type": "markdown",
   "metadata": {},
   "source": [
    "### Creating the Single Data Set\n",
    "\n",
    "Now that we've converted everything to percentages, it's time to bring the data together! We'll initialise the data frame using the first matching data set, and then iterate over the rest, merging the data frames as we go."
   ]
  },
  {
   "cell_type": "code",
   "execution_count": null,
   "metadata": {},
   "outputs": [],
   "source": [
    "matching = list(transformed.keys())\n",
    "print(\"Found the following data sets:\\n\\t\" + \", \".join(matching))\n",
    "\n",
    "# Initialise the data frame simply by grabbing the\n",
    "# very first existing data frame and copying it \n",
    "# directly (SCaled Data Frame == scdf)\n",
    "scdf  = transformed[matching[0]].copy() \n",
    "lsoac = clean[matching[0]].copy() \n",
    "\n",
    "for m in range(1, len(matching)):\n",
    "    scdf  = scdf.merge(transformed[matching[m]], how='inner', left_on='mnemonic', right_on='mnemonic')\n",
    "    lsoac = lsoac.merge(clean[matching[m]], how='inner', left_on='mnemonic', right_on='mnemonic')\n",
    "\n",
    "scdf.to_csv(os.path.join('data','Scaled_and_Transformed.csv.gz'), compression='gzip')\n",
    "lsoac.to_csv(os.path.join('data','Cleaned.csv.gz'), compression='gzip')"
   ]
  },
  {
   "cell_type": "code",
   "execution_count": null,
   "metadata": {},
   "outputs": [],
   "source": [
    "print(\"Shape of full data frame is {0} by {1}\".format(scdf.shape[0], scdf.shape[1]))"
   ]
  },
  {
   "cell_type": "markdown",
   "metadata": {},
   "source": [
    "With luck you still have 4,835 rows, but now you have rather fewer than 88 columns."
   ]
  },
  {
   "cell_type": "code",
   "execution_count": null,
   "metadata": {},
   "outputs": [],
   "source": [
    "random.seed(42)\n",
    "cols_to_plot = random.sample(population=list(scdf.columns.values), k=3)\n",
    "print(\"Columns to plot: \" + \", \".join(cols_to_plot))"
   ]
  },
  {
   "cell_type": "code",
   "execution_count": null,
   "metadata": {},
   "outputs": [],
   "source": [
    "# The data as it is now...\n",
    "sns.set(style=\"whitegrid\")\n",
    "sns.pairplot(lsoac, \n",
    "             vars=cols_to_plot, \n",
    "             markers=\".\", height=3, diag_kind='kde')"
   ]
  },
  {
   "cell_type": "code",
   "execution_count": null,
   "metadata": {},
   "outputs": [],
   "source": [
    "# The data as it is now...\n",
    "sns.set(style=\"whitegrid\")\n",
    "sns.pairplot(scdf, \n",
    "             vars=cols_to_plot, \n",
    "             markers=\".\", height=3, diag_kind='kde')"
   ]
  },
  {
   "cell_type": "markdown",
   "metadata": {},
   "source": [
    "<div style=\"padding:5px;margin-top:5px;margin-bottom:5px;border:dotted 1px red;background-color:rgb(255,233,233);color:red\">STOP. Making sure that you understand how and why this results differns from the <i>same</i> plot above.</div>\n",
    "\n",
    "Right, so you can see that rescaling the dimension hasn't *actually* changed the relationships within each dimension, or even between dimensions, but it has changed the overall range so that the the data is broadly re-centered on 0 but we *still* have the original outliers from the raw data. You could _also_ do IQR standardisation (0.25 and 0.75) with the percentages, but in those cases you would have _more_ outliers and then _more_ extreme values skewing the results of the clustering algorithm."
   ]
  },
  {
   "cell_type": "markdown",
   "metadata": {},
   "source": [
    "#### Freeing Up Memory\n",
    "\n",
    "We now have quite a few variables/datasets in memory, so it's a good idea to free up some RAM by getting rid of anything we no longer need..."
   ]
  },
  {
   "cell_type": "code",
   "execution_count": null,
   "metadata": {},
   "outputs": [],
   "source": [
    "in_scope  = set([x for x in dir() if not x.startswith('_')])\n",
    "to_delete = set(['raw','clean','transformed','col','k','c','lsoac','scdf'])\n",
    "z = list(in_scope.intersection(to_delete))\n",
    "del(z)"
   ]
  },
  {
   "cell_type": "markdown",
   "metadata": {},
   "source": [
    "## Clustering Your Data\n",
    "\n",
    "OK, we're finally here! It's time to cluster the cleaned, normalised, and standardised data set! We're going to start with the best-known clustering technique (k-means) and work from there... Don't take my word for it, here are the [5 Clustering Techniques Every Data Scientist Should Know](https://towardsdatascience.com/the-5-clustering-algorithms-data-scientists-need-to-know-a36d136ef68). This is also a good point to refer back to some of what we've been doing (and it's a good point to potentially disagree with me!) since [clustering in high dimensions can be problematic](https://towardsdatascience.com/how-to-cluster-in-high-dimensions-4ef693bacc6) (_i.e._ the more dimensions the worse the Euclidean distance gets as a cluster metric)."
   ]
  },
  {
   "cell_type": "markdown",
   "metadata": {},
   "source": [
    "The effectiveness of clustering algorithms is usually demonstrated using the 'iris data' -- it's available by default with both Seaborn and SciKit-Learn. This data doesn't usually need normalisation but it's a good way to start looking at the data across four dimensions and seeing how it varies and why some dimensions are 'good' for clustering, while others are 'not useful'..."
   ]
  },
  {
   "cell_type": "code",
   "execution_count": null,
   "metadata": {},
   "outputs": [],
   "source": [
    "sns.set()\n",
    "irises = sns.load_dataset(\"iris\")\n",
    "sns.pairplot(irises, hue=\"species\")"
   ]
  },
  {
   "cell_type": "markdown",
   "metadata": {},
   "source": [
    "<div style=\"padding:5px;margin-top:5px;margin-bottom:5px;border:dotted 1px red;background-color:rgb(255,233,233);color:red\">Unfortunately, our data is a <i>lot</i> messier and has many more dimensions (>25) than this.</div>"
   ]
  },
  {
   "cell_type": "markdown",
   "metadata": {},
   "source": [
    "#### Create an Output Directory and Load the Data"
   ]
  },
  {
   "cell_type": "code",
   "execution_count": null,
   "metadata": {},
   "outputs": [],
   "source": [
    "o_dir = os.path.join('outputs','clusters')\n",
    "if os.path.isdir(o_dir) is not True:\n",
    "    print(\"Creating '{0}' directory.\".format(o_dir))\n",
    "    os.makedirs(o_dir)"
   ]
  },
  {
   "cell_type": "code",
   "execution_count": null,
   "metadata": {},
   "outputs": [],
   "source": [
    "df = pd.read_csv(os.path.join('data','Scaled_and_Transformed.csv.gz'))\n",
    "df.rename(columns={'mnemonic':'lsoacd'}, inplace=True)\n",
    "df.set_index('lsoacd', inplace=True)\n",
    "df.describe()"
   ]
  },
  {
   "cell_type": "code",
   "execution_count": null,
   "metadata": {},
   "outputs": [],
   "source": [
    "df.sample(3, random_state=42)"
   ]
  },
  {
   "cell_type": "markdown",
   "metadata": {},
   "source": [
    "#### Grab Borough Boundaries and Water Courses\n",
    "\n",
    "_Note:_ if reading these GeoPackages gives you errors then you will need to comment out the following two lines from the `plt_ldn` function immediately below:\n",
    "```python\n",
    "    w.plot(ax=ax, color='#79aef5', zorder=2)\n",
    "    b.plot(ax=ax, edgecolor='#cc2d2d', facecolor='None', zorder=3)\n",
    "```"
   ]
  },
  {
   "cell_type": "code",
   "execution_count": null,
   "metadata": {},
   "outputs": [],
   "source": [
    "# Load Water GeoPackage\n",
    "w_path = os.path.join('data','Water.gpkg')\n",
    "if not os.path.exists(w_path):\n",
    "    water = gpd.read_file('https://github.com/kingsgeocomp/applied_gsa/raw/master/data/Water.gpkg')\n",
    "    water.to_file(w_path)\n",
    "    print(\"Downloaded Water.gpkg file.\")\n",
    "else:\n",
    "    water = gpd.read_file(w_path)\n",
    "\n",
    "# Boroughs GeoPackage\n",
    "b_path = os.path.join('data','Boroughs.gpkg')\n",
    "if not os.path.exists(b_path):\n",
    "    boroughs = gpd.read_file('https://github.com/kingsgeocomp/applied_gsa/raw/master/data/Boroughs.gpkg')\n",
    "    boroughs.to_file(b_path)\n",
    "    print(\"Downloaded Boroughs.gpkg file.\")\n",
    "else:\n",
    "    boroughs = gpd.read_file(b_path)"
   ]
  },
  {
   "cell_type": "markdown",
   "metadata": {},
   "source": [
    "#### Useful Functions for Plotting"
   ]
  },
  {
   "cell_type": "code",
   "execution_count": null,
   "metadata": {},
   "outputs": [],
   "source": [
    "def plt_ldn(w=water, b=boroughs):\n",
    "    fig, ax = plt.subplots(1, figsize=(14, 12))\n",
    "    w.plot(ax=ax, color='#79aef5', zorder=2)\n",
    "    b.plot(ax=ax, edgecolor='#cc2d2d', facecolor='None', zorder=3)\n",
    "    ax.set_xlim([502000,563000])\n",
    "    ax.set_ylim([155000,201500])\n",
    "    ax.spines['top'].set_visible(False)\n",
    "    ax.spines['right'].set_visible(False)\n",
    "    ax.spines['bottom'].set_visible(False)\n",
    "    ax.spines['left'].set_visible(False)\n",
    "    return fig, ax\n",
    "\n",
    "def default_cmap(n, outliers=False):\n",
    "    cmap = mpl.cm.get_cmap('viridis_r', n)\n",
    "    colors = cmap(np.linspace(0,1,n))\n",
    "    if outliers:\n",
    "        gray = np.array([225/256, 225/256, 225/256, 1])\n",
    "        colors = np.insert(colors, 0, gray, axis=0)\n",
    "    return ListedColormap(colors)\n",
    "\n",
    "# mappable = ax.collections[-1] if you add the geopandas\n",
    "# plot last.\n",
    "def add_colorbar(mappable, ax, cmap, norm, breaks, outliers=False):\n",
    "    cb = fig.colorbar(mappable, ax=ax, cmap=cmap, norm=norm,\n",
    "                    boundaries=breaks,\n",
    "                    extend=('min' if outliers else 'neither'), \n",
    "                    spacing='uniform',\n",
    "                    orientation='horizontal',\n",
    "                    fraction=0.05, shrink=0.5, pad=0.05)\n",
    "    cb.set_label(\"Cluster Number\")"
   ]
  },
  {
   "cell_type": "markdown",
   "metadata": {},
   "source": [
    "#### Select 4 Columns to Plot"
   ]
  },
  {
   "cell_type": "code",
   "execution_count": null,
   "metadata": {},
   "outputs": [],
   "source": [
    "random.seed(42)\n",
    "cols_to_plot = random.sample(population=list(df.columns.values), k=4)\n",
    "print(\"Columns to plot: \" + \", \".join(cols_to_plot))"
   ]
  },
  {
   "cell_type": "markdown",
   "metadata": {},
   "source": [
    "#### Storing Results"
   ]
  },
  {
   "cell_type": "code",
   "execution_count": null,
   "metadata": {},
   "outputs": [],
   "source": [
    "result_set = None\n",
    "\n",
    "def add_2_rs(s, rs=result_set):\n",
    "    if rs is None:\n",
    "        # Initialise\n",
    "        rs = pd.DataFrame()\n",
    "    rs[s.name] = s\n",
    "    return rs"
   ]
  },
  {
   "cell_type": "markdown",
   "metadata": {
    "toc-hr-collapsed": true
   },
   "source": [
    "### K-Means"
   ]
  },
  {
   "cell_type": "markdown",
   "metadata": {},
   "source": [
    "#### Importing the Library"
   ]
  },
  {
   "cell_type": "code",
   "execution_count": null,
   "metadata": {},
   "outputs": [],
   "source": [
    "from sklearn.cluster import KMeans\n",
    "#help(KMeans)"
   ]
  },
  {
   "cell_type": "markdown",
   "metadata": {},
   "source": [
    "The next few code blocks may take a while to complete, largely because of the `pairplot` at the end where we ask Seaborn to plot every dimension against every other dimension _while_ colouring the points according to their cluster. I've reduced the plotting to just three dimensions, if you want to plot all of them, then just replace the array attached to `vars` with `main_cols`, but you have to bear in mind that that is plotting 4,300 points _each_ time it draws a plot... and there are 81 of them! It'll take a while, but it _will_ do it, and try doing that in Excel or SPSS?"
   ]
  },
  {
   "cell_type": "markdown",
   "metadata": {},
   "source": [
    "#### A First Cluster Analysis"
   ]
  },
  {
   "cell_type": "code",
   "execution_count": null,
   "metadata": {},
   "outputs": [],
   "source": [
    "c_nm   = 'KMeans' # Clustering name\n",
    "k_pref = 6 # Number of clusters\n",
    "\n",
    "# Quick sanity check in case something hasn't\n",
    "# run successfully -- these muck up k-means\n",
    "cldf = df.drop(list(df.columns[df.isnull().any().values].values), axis=1)\n",
    "\n",
    "kmeans = KMeans(n_clusters=k_pref, n_init=20, random_state=42, n_jobs=-1).fit(cldf) # The process\n",
    "\n",
    "print(kmeans.labels_) # The results\n",
    "\n",
    "# Add it to the data frame\n",
    "cldf[c_nm] = pd.Series(kmeans.labels_, index=df.index) \n",
    "\n",
    "# How are the clusters distributed?\n",
    "cldf[c_nm].hist(bins=k_pref)\n",
    "\n",
    "# Going to be a bit hard to read if \n",
    "# we plot every variable against every\n",
    "# other variables, so we'll just pick a few\n",
    "sns.set(style=\"white\")\n",
    "sns.pairplot(cldf, \n",
    "             vars=cols_to_plot, \n",
    "             hue=c_nm, markers=\".\", height=3, diag_kind='kde')"
   ]
  },
  {
   "cell_type": "code",
   "execution_count": null,
   "metadata": {},
   "outputs": [],
   "source": [
    "cgdf = gdf.join(cldf, how='inner')\n",
    "\n",
    "breaks = np.arange(0,cldf[c_nm].max()+2,1)\n",
    "cmap   = default_cmap(len(breaks))\n",
    "\n",
    "norm    = mpl.colors.BoundaryNorm(breaks, cmap.N)\n",
    "\n",
    "fig, ax = plt_ldn()\n",
    "fig.suptitle(f\"{c_nm} Results (k={k_pref})\", fontsize=20, y=0.92)\n",
    "cgdf.plot(column=c_nm, ax=ax, cmap=cmap, norm=norm, linewidth=0, zorder=0)\n",
    "\n",
    "add_colorbar(ax.collections[-1], ax, cmap, norm, breaks)\n",
    "\n",
    "del(cgdf)"
   ]
  },
  {
   "cell_type": "markdown",
   "metadata": {},
   "source": [
    "#### One More Thing...\n",
    "\n",
    "There's just _one_ little problem: what assumption did I make when I started this *k*-means cluster analysis? It's a huge one, and it's one of the reasons that *k*-means clustering _can_ be problematic when used naively...\n",
    "\n",
    "<div style=\"padding:5px;margin-top:5px;margin-bottom:5px;border:dotted 1px red;background-color:rgb(255,233,233);color:red\">STOP. What critical assumption did we make when running this analysis?</div>"
   ]
  },
  {
   "cell_type": "markdown",
   "metadata": {},
   "source": [
    "#### The 'Right' Number of Clusters\n",
    "\n",
    "Again, there's more than one way to skin this cat. In _Geocomputation_ they use WCSS to pick the 'optimal' number of clusters. The idea is that you plot the average WCSS for each number of possible clusters in the range of interest (`2...n`) and then look for a 'knee' (i.e. kink) in the curve. The principle of this approach is that you look for the point where there is declining benefit from adding more clusters. The problem is that there is always _some_ benefit to adding more clusters (the perfect clustering is _k==n_), so you don't always see a knee. \n",
    "\n",
    "Another way to try to make the process of selecting the number of clusters a little less arbitrary is called the silhouette plot and (like WCSS) it allows us to evaluate the 'quality' of the clustering outcome by examining the distance between each observation and the rest of the cluster. In this case it's based on Partitioning Around the Medoid (PAM). \n",
    "\n",
    "Either way, to evaluate this in a systematic way, we want to do _multiple_ _k_-means clusterings for _multiple_ values of _k_ and then we can look at which gives the best results...\n",
    "\n",
    "Let's try it for the range 3-9."
   ]
  },
  {
   "cell_type": "code",
   "execution_count": null,
   "metadata": {},
   "outputs": [],
   "source": [
    "# Adapted from: http://scikit-learn.org/stable/auto_examples/cluster/plot_kmeans_silhouette_analysis.html\n",
    "from sklearn.cluster import KMeans\n",
    "from sklearn.metrics import silhouette_samples, silhouette_score\n",
    "\n",
    "cldf = df.drop(list(df.columns[df.isnull().any().values].values), axis=1)\n",
    "\n",
    "text = []\n",
    "\n",
    "for k in range(3,10):\n",
    "    # Debugging\n",
    "    print(\"Cluster count: \" + str(k))\n",
    "    \n",
    "    #############\n",
    "    # Do the clustering using the main columns\n",
    "    clusterer = KMeans(n_clusters=k, n_init=15, random_state=42, n_jobs=-1)\n",
    "    cluster_labels = clusterer.fit_predict(cldf)\n",
    "    \n",
    "    # Calculate the overall silhouette score\n",
    "    silhouette_avg = silhouette_score(cldf, cluster_labels)\n",
    "    text = text + [f\"For k={k} the average silhouette_score is: {silhouette_avg:6.4f}\"]\n",
    "    \n",
    "    # Calculate the silhouette values\n",
    "    sample_silhouette_values = silhouette_samples(cldf, cluster_labels)\n",
    "    \n",
    "    #############\n",
    "    # Create a subplot with 1 row and 2 columns\n",
    "    fig, (ax1, ax2) = plt.subplots(1, 2)\n",
    "    fig.set_size_inches(9, 5)\n",
    "\n",
    "    # The 1st subplot is the silhouette plot\n",
    "    # The silhouette coefficient can range from -1, 1\n",
    "    ax1.set_xlim([-1.0, 1.0]) # Changed from -0.1, 1\n",
    "    \n",
    "    # The (n_clusters+1)*10 is for inserting blank space between silhouette\n",
    "    # plots of individual clusters, to demarcate them clearly.\n",
    "    ax1.set_ylim([0, cldf.shape[0] + (k + 1) * 10])\n",
    "    \n",
    "    y_lower = 10\n",
    "    \n",
    "    # For each of the clusters...\n",
    "    for i in range(k):\n",
    "        # Aggregate the silhouette scores for samples belonging to\n",
    "        # cluster i, and sort them\n",
    "        ith_cluster_silhouette_values = \\\n",
    "            sample_silhouette_values[cluster_labels == i]\n",
    "\n",
    "        ith_cluster_silhouette_values.sort()\n",
    "\n",
    "        size_cluster_i = ith_cluster_silhouette_values.shape[0]\n",
    "        y_upper = y_lower + size_cluster_i\n",
    "        \n",
    "        # Set the color ramp\n",
    "        #cmap  = cm.get_cmap(\"Spectral\")\n",
    "        color = plt.cm.Spectral(i/k)\n",
    "        ax1.fill_betweenx(np.arange(y_lower, y_upper),\n",
    "                          0, ith_cluster_silhouette_values,\n",
    "                          facecolor=color, edgecolor=color, alpha=0.7)\n",
    "\n",
    "        # Label the silhouette plots with their cluster numbers at the middle\n",
    "        ax1.text(-0.05, y_lower + 0.5 * size_cluster_i, str(i))\n",
    "\n",
    "        # Compute the new y_lower for next plot\n",
    "        y_lower = y_upper + 10  # 10 for the 0 samples\n",
    "\n",
    "    ax1.set_title(\"The silhouette plot for the clusters.\")\n",
    "    ax1.set_xlabel(\"The silhouette coefficient values\")\n",
    "    ax1.set_ylabel(\"Cluster label\")\n",
    "\n",
    "    # The vertical line for average silhouette score of all the values\n",
    "    ax1.axvline(x=silhouette_avg, color=\"red\", linestyle=\"--\")\n",
    "\n",
    "    ax1.set_yticks([])  # Clear the yaxis labels / ticks\n",
    "    ax1.set_xticks(np.arange(-1.0, 1.1, 0.2)) # Was: [-0.1, 0, 0.2, 0.4, 0.6, 0.8, 1]\n",
    "\n",
    "    # 2nd Plot showing the actual clusters formed --\n",
    "    # we can only do this for the first two dimensions\n",
    "    # so we may not see fully what is causing the \n",
    "    # resulting assignment\n",
    "    colors = plt.cm.Spectral(cluster_labels.astype(float) / k)\n",
    "    ax2.scatter(cldf[cldf.columns[0]], cldf[cldf.columns[1]], marker='.', s=30, lw=0, alpha=0.7,\n",
    "                c=colors)\n",
    "\n",
    "    # Labeling the clusters\n",
    "    centers = clusterer.cluster_centers_\n",
    "    \n",
    "    # Draw white circles at cluster centers\n",
    "    ax2.scatter(centers[:, 0], centers[:, 1],\n",
    "                marker='o', c=\"white\", alpha=1, s=200)\n",
    "\n",
    "    for i, c in enumerate(centers):\n",
    "        ax2.scatter(c[0], c[1], marker='$%d$' % i, alpha=1, s=50)\n",
    "\n",
    "    ax2.set_title(\"Visualization of the clustered data\")\n",
    "    ax2.set_xlabel(\"Feature space for the 1st feature\")\n",
    "    ax2.set_ylabel(\"Feature space for the 2nd feature\")\n",
    "\n",
    "    plt.suptitle((\"Silhouette analysis for KMeans clustering on sample data \"\n",
    "                  \"with n_clusters = %d\" % k),\n",
    "                 fontsize=14, fontweight='bold')\n",
    "\n",
    "    plt.show()\n",
    "\n",
    "print(\"\\n\".join(text))    \n",
    "\n",
    "del(cldf)"
   ]
  },
  {
   "cell_type": "markdown",
   "metadata": {},
   "source": [
    "#### Interpreting the Results\n",
    "\n",
    "<div style=\"padding:5px;margin-top:5px;margin-bottom:5px;border:dotted 1px red;background-color:rgb(255,233,233);color:red\">STOP. Make sure that you understand how the silhouette plot and value work, and why your results may diverge from mine.</div>\n",
    "\n",
    "We can use the largest average silhouette score to determine the 'natural' number of clusters in the data, but that that's only if we don't have any kind of underlying _theory_, other _empirical evidence_, or even just a _reason_ for choosing a different value... Again, we're now getting in areas where _your judgement_ and your ability to _communicate your rationale_ to readers is the key thing. "
   ]
  },
  {
   "cell_type": "markdown",
   "metadata": {},
   "source": [
    "#### Final Clustering\n",
    "\n",
    "Let's repeat the clustering process _one more time_ using the silhouette score as a guide and then map it."
   ]
  },
  {
   "cell_type": "code",
   "execution_count": null,
   "metadata": {
    "scrolled": true
   },
   "outputs": [],
   "source": [
    "c_nm = 'KMeans'\n",
    "# Quick sanity check in case something hasn't\n",
    "# run successfully -- these muck up k-means\n",
    "cldf = df.drop(list(df.columns[df.isnull().any().values].values), axis=1)\n",
    "\n",
    "k_pref = 4\n",
    "kmeans = KMeans(n_clusters=k_pref, n_init=75, random_state=42).fit(cldf)\n",
    "\n",
    "# Convert to a series\n",
    "s = pd.Series(kmeans.labels_, index=cldf.index, name=c_nm)\n",
    "\n",
    "# We do this for plotting\n",
    "cldf[c_nm] = s\n",
    "\n",
    "# We do this to keep track of the results\n",
    "result_set=add_2_rs(s)"
   ]
  },
  {
   "cell_type": "markdown",
   "metadata": {},
   "source": [
    "#### Mapping Results"
   ]
  },
  {
   "cell_type": "code",
   "execution_count": null,
   "metadata": {},
   "outputs": [],
   "source": [
    "cgdf = gdf.join(cldf, how='inner')\n",
    "\n",
    "breaks = np.arange(0,cldf[c_nm].max()+2,1)\n",
    "cmap   = default_cmap(len(breaks))\n",
    "\n",
    "norm    = mpl.colors.BoundaryNorm(breaks, cmap.N)\n",
    "\n",
    "fig, ax = plt_ldn()\n",
    "fig.suptitle(f\"{c_nm} Results (k={k_pref})\", fontsize=20, y=0.92)\n",
    "cgdf.plot(column=c_nm, ax=ax, cmap=cmap, norm=norm, linewidth=0, zorder=0)\n",
    "\n",
    "add_colorbar(ax.collections[-1], ax, cmap, norm, breaks)\n",
    "\n",
    "plt.savefig(os.path.join(o_dir,f\"{c_nm}-{k_pref}.png\"), dpi=200)\n",
    "del(cgdf)"
   ]
  },
  {
   "cell_type": "markdown",
   "metadata": {},
   "source": [
    "To make sense of whether this is a 'good' result, you might want to visit [datashine](http://datashine.org.uk/#table=QS607EW&col=QS607EW0050&ramp=RdYlGn&layers=BTTT&zoom=10&lon=-0.1751&lat=51.4863) or think back to last year when we examined the NS-SeC data. \n",
    "\n",
    "You could also think of ways of plotting how these groups differ. For instance..."
   ]
  },
  {
   "cell_type": "markdown",
   "metadata": {},
   "source": [
    "#### 'Representative' Centroids\n",
    "\n",
    "To get a sense of how these clusters differ we can try to extract 'representative' centroids (mid-points of the multi-dimensional cloud that constitutes a cluster). In the case of _k_-means this will work quite will since the clusters are explicitly built around mean centroids. There's also a _k_-medoids clustering approach built around the median centroid."
   ]
  },
  {
   "cell_type": "code",
   "execution_count": null,
   "metadata": {},
   "outputs": [],
   "source": [
    "centroids = None\n",
    "for k in sorted(cldf[c_nm].unique()):\n",
    "    print(f\"Processing cluster {k}\")\n",
    "\n",
    "    clsoas = cldf[cldf[c_nm]==k]\n",
    "    if centroids is None:\n",
    "        centroids = pd.DataFrame(columns=clsoas.columns.values)\n",
    "    centroids = centroids.append(clsoas.mean(), ignore_index=True)\n",
    "\n",
    "odf = pd.DataFrame(columns=['Variable','Cluster','Std. Value'])\n",
    "for i in range(0,len(centroids.index)):\n",
    "    row = centroids.iloc[i,:]\n",
    "    c_index = list(centroids.columns.values).index(c_nm)\n",
    "    for c in range(0,c_index):\n",
    "        d = {'Variable':centroids.columns[c], 'Cluster':row[c_index], 'Std. Value':row[c]}\n",
    "        odf = odf.append(d, ignore_index=True)\n",
    "\n",
    "g = sns.FacetGrid(odf, col=\"Variable\", col_wrap=3, height=3, aspect=1.5, margin_titles=True, sharey=True)\n",
    "g = g.map(plt.plot, \"Cluster\", \"Std. Value\", marker=\".\")\n",
    "\n",
    "del(odf, centroids, cldf)"
   ]
  },
  {
   "cell_type": "markdown",
   "metadata": {
    "toc-hr-collapsed": true
   },
   "source": [
    "### DBScan\n",
    "\n",
    "Of course, as we've said above _k_-means is just one way of clustering, DBScan is another. Unlike _k_-means, we don't need to specify the number of clusters in advance. Which sounds great, but we still need to specify _other_ parameters (typically, these are known as _hyperparameters_ because they are about specifying parameters that help the aglorithm to find the right solution... or final set of parameters!) and these can have a huge impact on our results!"
   ]
  },
  {
   "cell_type": "markdown",
   "metadata": {},
   "source": [
    "#### Importing the Library"
   ]
  },
  {
   "cell_type": "code",
   "execution_count": null,
   "metadata": {},
   "outputs": [],
   "source": [
    "from sklearn.cluster import DBSCAN\n",
    "#?DSCAN"
   ]
  },
  {
   "cell_type": "markdown",
   "metadata": {},
   "source": [
    "#### Find a Reasonable Value for Epsilon\n",
    "\n",
    "Before we an use DBSCAN it's useful to find a good value for Epsilon. We can [look for the point of maximum 'curvature'](https://towardsdatascience.com/machine-learning-clustering-dbscan-determine-the-optimal-value-for-epsilon-eps-python-example-3100091cfbc) in a nearest neigbhours plot. Which seems to be in the vicinity of 0.55. Tips on selecting `min_pts` can be [found here](https://towardsdatascience.com/how-dbscan-works-and-why-should-i-use-it-443b4a191c80)."
   ]
  },
  {
   "cell_type": "code",
   "execution_count": null,
   "metadata": {},
   "outputs": [],
   "source": [
    "# Quick sanity check in case something hasn't\n",
    "# run successfully -- these muck up k-means\n",
    "cldf = df.drop(list(df.columns[df.isnull().any().values].values), axis=1)\n",
    "\n",
    "neigh = NearestNeighbors(n_neighbors=2)\n",
    "nbrs = neigh.fit(cldf)\n",
    "distances, indices = nbrs.kneighbors(cldf)\n",
    "\n",
    "distances = np.sort(distances, axis=0)\n",
    "distances = distances[:,1]\n",
    "plt.plot(distances)"
   ]
  },
  {
   "cell_type": "markdown",
   "metadata": {},
   "source": [
    "#### Exploration\n",
    "\n",
    "There are two values that need to be specified: `eps` and `min_samples`. Both seem to be set largely by trial and error. It's easiest to set `min_samples` first since that sets a floor for your cluster size and then `eps` is basically a distance metric that governs how far away something can be from a cluster and still be considered part of that cluster.\n",
    "\n",
    "<div style=\"padding:5px;margin-top:5px;margin-bottom:5px;border:dotted 1px red;background-color:rgb(255,233,233);color:red\">WARNING. This next step may take quite a lot of time since we are iterating through many, many values of Epsilon to explore how the clustering result changes and how well this matches up with (or doesn't) the graph above.</div>"
   ]
  },
  {
   "cell_type": "code",
   "execution_count": null,
   "metadata": {},
   "outputs": [],
   "source": [
    "c_nm = 'DBSCAN'\n",
    "\n",
    "# Quick sanity check in case something hasn't\n",
    "# run successfully -- these muck up k-means\n",
    "cldf = df.drop(list(df.columns[df.isnull().any().values].values), axis=1)\n",
    "\n",
    "# Make numeric display a bit neater\n",
    "pd.set_option('display.float_format', lambda x: '{:,.4f}'.format(x))\n",
    "\n",
    "# There's an argument for making min_samples = len(df.columns)+1\n",
    "\n",
    "el  = []\n",
    "\n",
    "max_clusters  = 10\n",
    "cluster_count = 1\n",
    "\n",
    "iters = 0\n",
    "\n",
    "for e in np.arange(0.15, 1.55, 0.005):\n",
    "    \n",
    "    if iters % 25==0: print(f\"{iters} epsilons explored.\") \n",
    "    \n",
    "    # Run the clustering\n",
    "    dbs = DBSCAN(eps=e, min_samples=12, n_jobs=-1).fit(cldf.values)\n",
    "    \n",
    "    # See how we did\n",
    "    s = pd.Series(dbs.labels_, index=cldf.index, name=c_nm)\n",
    "    \n",
    "    row = [e]\n",
    "    data = s.value_counts()\n",
    "    for c in range(-1, max_clusters+1):\n",
    "        try:\n",
    "            row.append(data[c])\n",
    "        except KeyError:\n",
    "            row.append(None)\n",
    "    \n",
    "    el.append(row)\n",
    "    iters+=1\n",
    "\n",
    "edf = pd.DataFrame(el, columns=['Epsilon']+[\"Cluster \" + str(x) for x in list(range(-1,max_clusters+1))])\n",
    "edf.sample(random_state=42)\n",
    "\n",
    "# Make numeric display a bit neater\n",
    "pd.set_option('display.float_format', lambda x: '{:,.2f}'.format(x))\n",
    "\n",
    "print(\"Done.\")"
   ]
  },
  {
   "cell_type": "code",
   "execution_count": null,
   "metadata": {},
   "outputs": [],
   "source": [
    "odf = pd.DataFrame(columns=['Epsilon','Cluster','Count'])\n",
    "\n",
    "for i in range(0,len(edf.index)):\n",
    "    row = edf.iloc[i,:]\n",
    "    for c in range(1,len(edf.columns.values)):\n",
    "        if not np.isnan(row[c]):\n",
    "            d = {'Epsilon':row[0], 'Cluster':f\"Cluster {c-2}\", 'Count':row[c]}\n",
    "            odf = odf.append(d, ignore_index=True)       "
   ]
  },
  {
   "cell_type": "code",
   "execution_count": null,
   "metadata": {},
   "outputs": [],
   "source": [
    "xmin = odf[odf.Cluster=='Cluster 0'].Epsilon.min()\n",
    "xmax = odf[(odf.Cluster=='Cluster -1') & (odf.Count < cldf.shape[0]/5)].Epsilon.min()\n",
    "\n",
    "fig, ax = plt.subplots(figsize=(12,8))\n",
    "ax.set_xlim([xmin,xmax])\n",
    "sns.lineplot(data=odf, x='Epsilon', y='Count', hue='Cluster')"
   ]
  },
  {
   "cell_type": "markdown",
   "metadata": {},
   "source": [
    "#### Final Clustering"
   ]
  },
  {
   "cell_type": "code",
   "execution_count": null,
   "metadata": {},
   "outputs": [],
   "source": [
    "e = 0.785\n",
    "dbs = DBSCAN(eps=e, min_samples=12, n_jobs=-1).fit(cldf.values)\n",
    "s = pd.Series(dbs.labels_, index=cldf.index, name=c_nm)\n",
    "cldf[c_nm] = s\n",
    "result_set=add_2_rs(s)\n",
    "print(s.value_counts())"
   ]
  },
  {
   "cell_type": "code",
   "execution_count": null,
   "metadata": {},
   "outputs": [],
   "source": [
    "cgdf = gdf.join(cldf, how='inner')\n",
    "\n",
    "breaks = np.arange(cldf[c_nm].min(),cldf[c_nm].max()+2,1)\n",
    "cmap   = default_cmap(len(breaks), outliers=True)\n",
    "norm   = mpl.colors.BoundaryNorm(breaks, cmap.N, clip=False)\n",
    "\n",
    "fig, ax = plt_ldn()\n",
    "fig.suptitle(f\"{c_nm} Results\", fontsize=20, y=0.92)\n",
    "\n",
    "cgdf.plot(column=c_nm, ax=ax, cmap=cmap, norm=norm, linewidth=0, zorder=0, legend=False)\n",
    "\n",
    "add_colorbar(ax.collections[-1], ax, cmap, norm, breaks, outliers=True)\n",
    "\n",
    "plt.savefig(os.path.join(o_dir,f\"{c_nm}.png\"), dpi=200)\n",
    "del(cgdf)"
   ]
  },
  {
   "cell_type": "markdown",
   "metadata": {},
   "source": [
    "#### 'Representative' Centroids\n",
    "\n",
    "To get a sense of how these clusters differ we can try to extract 'representative' centroids (mid-points of the multi-dimensional cloud that constitutes a cluster). For algorithms other than _k_-means it may be better to use medians than means."
   ]
  },
  {
   "cell_type": "code",
   "execution_count": null,
   "metadata": {},
   "outputs": [],
   "source": [
    "centroids = None\n",
    "for k in sorted(cldf[c_nm].unique()):\n",
    "    print(f\"Processing cluster {k}\")\n",
    "\n",
    "    clsoas = cldf[cldf[c_nm]==k]\n",
    "    if centroids is None:\n",
    "        centroids = pd.DataFrame(columns=clsoas.columns.values)\n",
    "    centroids = centroids.append(clsoas.mean(), ignore_index=True)\n",
    "\n",
    "odf = pd.DataFrame(columns=['Variable','Cluster','Std. Value'])\n",
    "for i in range(0,len(centroids.index)):\n",
    "    row = centroids.iloc[i,:]\n",
    "    c_index = list(centroids.columns.values).index(c_nm)\n",
    "    for c in range(0,c_index):\n",
    "        d = {'Variable':centroids.columns[c], 'Cluster':row[c_index], 'Std. Value':row[c]}\n",
    "        odf = odf.append(d, ignore_index=True)\n",
    "\n",
    "# Drop outliers\n",
    "odf = odf[odf.Cluster >= 0]\n",
    "\n",
    "g = sns.FacetGrid(odf, col=\"Variable\", col_wrap=3, height=3, aspect=1.5, margin_titles=True, sharey=True)\n",
    "g = g.map(plt.plot, \"Cluster\", \"Std. Value\", marker=\".\")\n",
    "\n",
    "del(odf, centroids)"
   ]
  },
  {
   "cell_type": "markdown",
   "metadata": {
    "toc-hr-collapsed": true
   },
   "source": [
    "### OPTICS Clustering\n",
    "\n",
    "This is a fairly new addition to `sklearn` and is similar to DBSCAN in that there are very few (if any) parameters to specify. This means that we're making fewer assumptions about the nature of any clustering in the data. It also allows us to have outliers that don't get assigned to _any_ cluster. The focus is mainly on local density, so in some sense it's more like a geographically aware clustering approach, but applied in the data space, not geographical space."
   ]
  },
  {
   "cell_type": "markdown",
   "metadata": {},
   "source": [
    "#### Importing the Library"
   ]
  },
  {
   "cell_type": "code",
   "execution_count": null,
   "metadata": {},
   "outputs": [],
   "source": [
    "from sklearn.cluster import OPTICS"
   ]
  },
  {
   "cell_type": "markdown",
   "metadata": {},
   "source": [
    "#### Final Clustering\n",
    "\n",
    "<div style=\"padding:5px;margin-top:5px;margin-bottom:5px;border:dotted 1px red;background-color:rgb(255,233,233);color:red\">WARNING. This next step may take quite a lot of time since the algorithm is making far fewer assumptions about the structure of the data. On a 2018 MacBook Pro with 16GB of RAM it took about 5 minutes.</div>"
   ]
  },
  {
   "cell_type": "code",
   "execution_count": null,
   "metadata": {},
   "outputs": [],
   "source": [
    "c_nm = 'Optics'\n",
    "\n",
    "# Can try to set this from DBSCAN results\n",
    "e = 0.9850\n",
    "\n",
    "# Quick sanity check in case something hasn't\n",
    "# run successfully -- these muck up k-means\n",
    "cldf = df.drop(list(df.columns[df.isnull().any().values].values), axis=1)\n",
    "\n",
    "import math\n",
    "\n",
    "# Run the clustering\n",
    "opt = OPTICS(min_samples=len(df.columns)+1, max_eps=math.ceil(e * 100)/100, n_jobs=-1).fit(cldf.values)\n",
    "\n",
    "# See how we did\n",
    "s = pd.Series(opt.labels_, index=cldf.index, name=c_nm)\n",
    "cldf[c_nm] = s\n",
    "result_set=add_2_rs(s)\n",
    "\n",
    "# Distribution\n",
    "print(s.value_counts())"
   ]
  },
  {
   "cell_type": "markdown",
   "metadata": {},
   "source": [
    "#### Mapping Clustering Results\n",
    "\n",
    "<div style=\"padding:5px;margin-top:5px;margin-bottom:5px;border:dotted 1px red;background-color:rgb(255,233,233);color:red\">WARNING. My sense is that these results are a bit rubbish: the majority of items are assigned to <i>one cluster</i>??? I've tried PCA on the standardised data and that made little difference. This should also have worked <i>better</i> but it seems that a small number of LSOAs are so utterly different that the more sophisticated clustering algorithm effectively 'chokes' on them.</div>"
   ]
  },
  {
   "cell_type": "code",
   "execution_count": null,
   "metadata": {},
   "outputs": [],
   "source": [
    "cgdf = gdf.join(cldf, how='inner')\n",
    "\n",
    "breaks = np.arange(cldf[c_nm].min(),cldf[c_nm].max()+2,1)\n",
    "cmap   = default_cmap(len(breaks), outliers=True)\n",
    "norm   = mpl.colors.BoundaryNorm(breaks, cmap.N, clip=False)\n",
    "\n",
    "fig, ax = plt_ldn()\n",
    "fig.suptitle(f\"{c_nm} Results\", fontsize=20, y=0.92)\n",
    "\n",
    "cgdf.plot(column=c_nm, ax=ax, cmap=cmap, norm=norm, linewidth=0, zorder=0, legend=False)\n",
    "\n",
    "add_colorbar(ax.collections[-1], ax, cmap, norm, breaks, outliers=True)\n",
    "\n",
    "plt.savefig(os.path.join(o_dir,f\"{c_nm}.png\"), dpi=200)\n",
    "del(cgdf)"
   ]
  },
  {
   "cell_type": "markdown",
   "metadata": {},
   "source": [
    "#### 'Representative' Centroids\n",
    "\n",
    "To get a sense of how these clusters differ we can try to extract 'representative' centroids (mid-points of the multi-dimensional cloud that constitutes a cluster). For algorithms other than _k_-Means it may be better to use medians, not means."
   ]
  },
  {
   "cell_type": "code",
   "execution_count": null,
   "metadata": {},
   "outputs": [],
   "source": [
    "centroids = None\n",
    "for k in sorted(cldf[c_nm].unique()):\n",
    "    print(f\"Processing cluster {k}\")\n",
    "\n",
    "    clsoas = cldf[cldf[c_nm]==k]\n",
    "    if centroids is None:\n",
    "        centroids = pd.DataFrame(columns=clsoas.columns.values)\n",
    "    centroids = centroids.append(clsoas.mean(), ignore_index=True)\n",
    "\n",
    "odf = pd.DataFrame(columns=['Variable','Cluster','Std. Value'])\n",
    "for i in range(0,len(centroids.index)):\n",
    "    row = centroids.iloc[i,:]\n",
    "    c_index = list(centroids.columns.values).index(c_nm)\n",
    "    for c in range(0,c_index):\n",
    "        d = {'Variable':centroids.columns[c], 'Cluster':row[c_index], 'Std. Value':row[c]}\n",
    "        odf = odf.append(d, ignore_index=True)\n",
    "\n",
    "g = sns.FacetGrid(odf, col=\"Variable\", col_wrap=3, height=3, aspect=1.5, margin_titles=True, sharey=True)\n",
    "g = g.map(plt.plot, \"Cluster\", \"Std. Value\", marker=\".\")\n",
    "\n",
    "del(odf, centroids)"
   ]
  },
  {
   "cell_type": "markdown",
   "metadata": {},
   "source": [
    "<div style=\"padding:5px;margin-top:5px;margin-bottom:5px;border:dotted 1px red;background-color:rgb(255,233,233);color:red\">STOP. Aside from the fact that we should probably reduce the number of dimensions on which we're clustering, what about the process of selecting variables (a.k.a. feature selection) might have led to the result that our results are a bit crap? <i>Hint: how did we decide what to keep and what to drop, and is this a robust approach?</i></div>"
   ]
  },
  {
   "cell_type": "markdown",
   "metadata": {},
   "source": [
    "### HDBSCAN\n",
    "\n",
    "Not implemented, but you could give it a try after installing the package:\n",
    "```bash\n",
    "conda activate <your environment name here>\n",
    "conda install -c conda-forge sklearn-contrib-hdbscan\n",
    "```\n",
    "\n",
    "Then it should be something like:\n",
    "```python\n",
    "import hdbscan\n",
    "clusterer = hdbscan.HDBSCAN()\n",
    "# HDBSCAN(algorithm='best', alpha=1.0, approx_min_span_tree=True,\n",
    "#    gen_min_span_tree=False, leaf_size=40, memory=Memory(cachedir=None),\n",
    "#    metric='euclidean', min_cluster_size=5, min_samples=None, p=None)\n",
    "clusterer.fit(<data>)\n",
    "clusterer.labels_\n",
    "```"
   ]
  },
  {
   "cell_type": "markdown",
   "metadata": {},
   "source": [
    "### Hierarchical Clustering\n",
    "\n",
    "Probably not appropriate as it tends to be confused by noise."
   ]
  },
  {
   "cell_type": "markdown",
   "metadata": {},
   "source": [
    "### Self-Organising Maps\n",
    "\n",
    "SOMs offer a third type of clustering algorithm. They are a relatively 'simple' type of neural network in which the 'map' (of the SOM) adjusts to the data: we're going to see how this works over the next few code blocks, but the main thing is that, unlike the above approaches, SOMs build a 2D map of a higher-dimensional space and use this as a mechanism for subsequently clustering the raw data. In this sense there is a conceptual link between SOMs and PCA or tSNE (another form of dimensionality reduction)."
   ]
  },
  {
   "cell_type": "markdown",
   "metadata": {},
   "source": [
    "#### (Re)Installing SOMPY\n",
    "\n",
    "<div style=\"padding:5px;margin-top:5px;margin-bottom:5px;border:dotted 1px red;background-color:rgb(255,233,233);color:red\">WARNING. The maintainers of the main SOMPY library are fairly inactive, so we've had to write our own version that fixes a few Python3 bugs, but this means that it can't be installed the 'usual' way without also having Git installed. Consequently, I have left the output from SOMPY in place so that you can see what it will produce <i>even if you cannot successfully install SOMPY during this practical</i></div>. \n",
    "\n",
    "To work out if there is an issue, check to see if the `import` statement below gives you errors:"
   ]
  },
  {
   "cell_type": "code",
   "execution_count": null,
   "metadata": {},
   "outputs": [],
   "source": [
    "from sompy.sompy import SOMFactory"
   ]
  },
  {
   "cell_type": "markdown",
   "metadata": {},
   "source": [
    "If this import has failed with a warning about being unable to find SOM or something similar, then you will need to *re*-install SOMPY using a fork that I created on our Kings GSA GitHub account. For *that* to work, you will need to ensure that you have `git` installed. \n",
    "\n",
    "If the following Terminal command (which should also work in the Windows Terminal) does not give you an error then `git` is already installed:\n",
    "```shell\n",
    "git --version\n",
    "```\n",
    "To install `git` on a Mac is fairly simple. Again, from the Terminal issue the following command:\n",
    "```shell\n",
    "xcode-select --install\n",
    "```\n",
    "This installation may take some time over eduroam since there is a lot to download."
   ]
  },
  {
   "cell_type": "markdown",
   "metadata": {},
   "source": [
    "Once that's complete, you can move on to installing SOMPY from our fork. On a Mac this is done on the Terminal with:\n",
    "```shell\n",
    "conda activate <your kernel name here>\n",
    "pip install -e git+git://github.com/kingsgeocomp/SOMPY.git#egg=SOMPY\n",
    "conda deactivate\n",
    "```\n",
    "On Windows you probably drop the `conda` part of the command."
   ]
  },
  {
   "cell_type": "markdown",
   "metadata": {},
   "source": [
    "#### Training the SOM\n",
    "\n",
    "We are going to actually train the SOM using the input data. This is where you specify the input parameters that have the main effect on the clustering results."
   ]
  },
  {
   "cell_type": "code",
   "execution_count": null,
   "metadata": {},
   "outputs": [],
   "source": [
    "from sompy.sompy import SOMFactory"
   ]
  },
  {
   "cell_type": "code",
   "execution_count": null,
   "metadata": {},
   "outputs": [],
   "source": [
    "c_nm = 'SOM'\n",
    "\n",
    "# Quick sanity check in case something hasn't\n",
    "# run successfully -- these muck up k-means\n",
    "cldf = df.drop(list(df.columns[df.isnull().any().values].values), axis=1)\n",
    "\n",
    "sm = SOMFactory().build(\n",
    "    cldf.values, mapsize=(10,15),\n",
    "    normalization='var', initialization='random', component_names=cldf.columns.values)\n",
    "sm.train(n_job=4, verbose=False, train_rough_len=2, train_finetune_len=5)"
   ]
  },
  {
   "cell_type": "markdown",
   "metadata": {},
   "source": [
    "How good is the fit?"
   ]
  },
  {
   "cell_type": "code",
   "execution_count": null,
   "metadata": {},
   "outputs": [],
   "source": [
    "topographic_error  = sm.calculate_topographic_error()\n",
    "quantization_error = np.mean(sm._bmu[1])\n",
    "print(\"Topographic error = {0:0.5f}; Quantization error = {1:0.5f}\".format(topographic_error, quantization_error))"
   ]
  },
  {
   "cell_type": "markdown",
   "metadata": {},
   "source": [
    "How do the results look?"
   ]
  },
  {
   "cell_type": "code",
   "execution_count": null,
   "metadata": {},
   "outputs": [],
   "source": [
    "from sompy.visualization.mapview import View2D\n",
    "view2D = View2D(10, 10, \"rand data\", text_size=10)\n",
    "view2D.show(sm, col_sz=4, which_dim=\"all\", denormalize=True)\n",
    "plt.savefig(os.path.join(o_dir, f\"{c_nm}-Map.png\"), dpi=200)"
   ]
  },
  {
   "cell_type": "markdown",
   "metadata": {},
   "source": [
    "#### Here's What I Got\n",
    "\n",
    "<div style=\"padding:5px;margin-top:5px;margin-bottom:5px;border:dotted 1px red;background-color:rgb(255,233,233);color:red\">WARNING. These are the results from the approach that is closest to the one outlined in <i>Geocomputation</i>.</div>\n",
    "\n",
    "<img src=\"https://github.com/kingsgeocomp/applied_gsa/raw/master/img/SOM-Map.png\" alt=\"SOM Clustering Results\" width=\"800\" />"
   ]
  },
  {
   "cell_type": "markdown",
   "metadata": {},
   "source": [
    "How many data points were assigned to each BMU?"
   ]
  },
  {
   "cell_type": "code",
   "execution_count": null,
   "metadata": {},
   "outputs": [],
   "source": [
    "from sompy.visualization.bmuhits import BmuHitsView\n",
    "vhts = BmuHitsView(15, 15, \"Hits Map\", text_size=8)\n",
    "vhts.show(sm, anotate=True, onlyzeros=False, labelsize=9, cmap=\"plasma\", logaritmic=False)\n",
    "plt.savefig(os.path.join(o_dir,f\"{c_nm}-BMU Hit View.png\"), dpi=200)"
   ]
  },
  {
   "cell_type": "markdown",
   "metadata": {},
   "source": [
    "#### BMU Hit Map\n",
    "\n",
    "<div style=\"padding:5px;margin-top:5px;margin-bottom:5px;border:dotted 1px red;background-color:rgb(255,233,233);color:red\">WARNING. These are the results from the approach that is closest to the one outlined in <i>Geocomputation</i>.</div>\n",
    "\n",
    "<img src=\"https://github.com/kingsgeocomp/applied_gsa/raw/master/img/SOM-BMU Hit View.png\" alt=\"SOM Heat Map Results\" width=\"800\" />"
   ]
  },
  {
   "cell_type": "markdown",
   "metadata": {},
   "source": [
    "How many clusters do we want and where are they on the map?"
   ]
  },
  {
   "cell_type": "code",
   "execution_count": null,
   "metadata": {},
   "outputs": [],
   "source": [
    "from sompy.visualization.hitmap import HitMapView\n",
    "\n",
    "k_val = 5\n",
    "sm.cluster(k_val)\n",
    "hits  = HitMapView(15, 15, \"Clustering\", text_size=14)\n",
    "a     = hits.show(sm)\n",
    "plt.savefig(os.path.join(o_dir,f\"{c_nm}-Hit Map View.png\"), dpi=200)"
   ]
  },
  {
   "cell_type": "markdown",
   "metadata": {},
   "source": [
    "#### Clustering the BMUs\n",
    "\n",
    "<div style=\"padding:5px;margin-top:5px;margin-bottom:5px;border:dotted 1px red;background-color:rgb(255,233,233);color:red\">WARNING. These are the results from the approach that is closest to the one outlined in <i>Geocomputation</i>.</div>\n",
    "\n",
    "<img src=\"https://github.com/kingsgeocomp/applied_gsa/raw/master/img/SOM-Hit Map View.png\" alt=\"SOM Clustering Results\" width=\"800\" />"
   ]
  },
  {
   "cell_type": "markdown",
   "metadata": {},
   "source": [
    "Finally, let's get the cluster results and map them back on to the data points:"
   ]
  },
  {
   "cell_type": "code",
   "execution_count": null,
   "metadata": {},
   "outputs": [],
   "source": [
    "# Get the labels for each BMU\n",
    "# in the SOM (15 * 10 neurons)\n",
    "clabs = sm.cluster_labels\n",
    "\n",
    "try:\n",
    "    cldf.drop(c_nm,inplace=True,axis=1)\n",
    "except KeyError:\n",
    "    pass\n",
    "\n",
    "# Project the data on to the SOM\n",
    "# so that we get the BMU for each\n",
    "# of the original data points\n",
    "bmus  = sm.project_data(cldf.values)\n",
    "\n",
    "# Turn the BMUs into cluster labels\n",
    "# and append to the data frame\n",
    "s = pd.Series(clabs[bmus], index=cldf.index, name=c_nm)\n",
    "\n",
    "cldf[c_nm] = s\n",
    "result_set = add_2_rs(s)"
   ]
  },
  {
   "cell_type": "code",
   "execution_count": null,
   "metadata": {},
   "outputs": [],
   "source": [
    "cgdf = gdf.join(cldf, how='inner')\n",
    "\n",
    "breaks = np.arange(cldf[c_nm].min(),cldf[c_nm].max()+2,1)\n",
    "cmap   = default_cmap(len(breaks))\n",
    "norm   = mpl.colors.BoundaryNorm(breaks, cmap.N, clip=False)\n",
    "\n",
    "fig, ax = plt_ldn()\n",
    "fig.suptitle(f\"{c_nm} Results\", fontsize=20, y=0.92)\n",
    "\n",
    "cgdf.plot(column=c_nm, ax=ax, cmap=cmap, norm=norm, linewidth=0, zorder=0, legend=False)\n",
    "\n",
    "add_colorbar(ax.collections[-1], ax, cmap, norm, breaks)\n",
    "\n",
    "plt.savefig(os.path.join(o_dir,f\"{c_nm}.png\"), dpi=200)\n",
    "del(cgdf)"
   ]
  },
  {
   "cell_type": "markdown",
   "metadata": {},
   "source": [
    "#### Result!\n",
    "\n",
    "<div style=\"padding:5px;margin-top:5px;margin-bottom:5px;border:dotted 1px red;background-color:rgb(255,233,233);color:red\">WARNING. These are the results from the approach that is closest to the one outlined in <i>Geocomputation</i>.</div>\n",
    "\n",
    "<img src=\"https://github.com/kingsgeocomp/applied_gsa/raw/master/img/SOM.png\" alt=\"SOM Clustering Results Mapped\" width=\"800\" />"
   ]
  },
  {
   "cell_type": "markdown",
   "metadata": {},
   "source": [
    "#### Representative Centroids"
   ]
  },
  {
   "cell_type": "code",
   "execution_count": null,
   "metadata": {},
   "outputs": [],
   "source": [
    "centroids = None\n",
    "for k in sorted(cldf[c_nm].unique()):\n",
    "    print(f\"Processing cluster {k}\")\n",
    "\n",
    "    clsoas = cldf[cldf[c_nm]==k]\n",
    "    if centroids is None:\n",
    "        centroids = pd.DataFrame(columns=clsoas.columns.values)\n",
    "    centroids = centroids.append(clsoas.mean(), ignore_index=True)\n",
    "\n",
    "odf = pd.DataFrame(columns=['Variable','Cluster','Std. Value'])\n",
    "for i in range(0,len(centroids.index)):\n",
    "    row = centroids.iloc[i,:]\n",
    "    c_index = list(centroids.columns.values).index(c_nm)\n",
    "    for c in range(0,c_index):\n",
    "        d = {'Variable':centroids.columns[c], 'Cluster':row[c_index], 'Std. Value':row[c]}\n",
    "        odf = odf.append(d, ignore_index=True)\n",
    "\n",
    "g = sns.FacetGrid(odf, col=\"Variable\", col_wrap=3, height=3, aspect=1.5, margin_titles=True, sharey=True)\n",
    "g = g.map(plt.plot, \"Cluster\", \"Std. Value\", marker=\".\")\n",
    "\n",
    "del(odf, centroids)"
   ]
  },
  {
   "cell_type": "markdown",
   "metadata": {},
   "source": [
    "## Wrap-Up\n",
    "\n",
    "You've reached the end, you're done... \n",
    "\n",
    "Er, no. This is barely scratching the surface! I'd suggest that you go back through the above code and do three things:\n",
    "1. Add a lot more comments to the code to ensure that really have understood what is going on.\n",
    "2. Try playing with some of the parameters (e.g. my thresholds for skew, or non-normality) and seeing how your results change.\n",
    "3. Try outputting additional plots that will help you to understand the _quality_ of your clustering results (e.g. what _is_ the makeup of cluster 1? Or 6? What has it picked up? What names would I give these clsuters?).\n",
    "\n",
    "If all of that seems like a lot of work then why not learn a bit more about machine learning before calling it a day?\n",
    "\n",
    "See: [Introduction to Machine Learning with Scikit-Learn](http://www.slideshare.net/BenjaminBengfort/introduction-to-machine-learning-with-scikitlearn)."
   ]
  }
 ],
 "metadata": {
  "anaconda-cloud": {},
  "kernelspec": {
   "display_name": "GSA2019",
   "language": "python",
   "name": "gsa2019"
  },
  "language_info": {
   "codemirror_mode": {
    "name": "ipython",
    "version": 3
   },
   "file_extension": ".py",
   "mimetype": "text/x-python",
   "name": "python",
   "nbconvert_exporter": "python",
   "pygments_lexer": "ipython3",
   "version": "3.7.3"
  }
 },
 "nbformat": 4,
 "nbformat_minor": 4
}
